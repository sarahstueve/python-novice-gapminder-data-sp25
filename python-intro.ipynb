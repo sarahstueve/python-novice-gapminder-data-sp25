{
  "cells": [
    {
      "cell_type": "markdown",
      "metadata": {
        "id": "view-in-github",
        "colab_type": "text"
      },
      "source": [
        "<a href=\"https://colab.research.google.com/github/sarahstueve/python-novice-gapminder-data-sp25/blob/main/python-intro.ipynb\" target=\"_parent\"><img src=\"https://colab.research.google.com/assets/colab-badge.svg\" alt=\"Open In Colab\"/></a>"
      ]
    },
    {
      "cell_type": "markdown",
      "source": [
        "# Intro to Python\n",
        "\n",
        "**bold text is pretty**\n",
        "\n",
        "This is my first jupyter+colab notebook"
      ],
      "metadata": {
        "id": "u2GRAXoZ5VUy"
      }
    },
    {
      "cell_type": "code",
      "source": [
        "name = \"Sarah\"\n",
        "age = 27"
      ],
      "metadata": {
        "id": "Jmt8webq5bP0"
      },
      "execution_count": 1,
      "outputs": []
    },
    {
      "cell_type": "code",
      "source": [
        "print(age)"
      ],
      "metadata": {
        "id": "PXDAb_fo5iC9",
        "outputId": "17f60f8f-cbae-46a8-ec79-20814402bd32",
        "colab": {
          "base_uri": "https://localhost:8080/"
        }
      },
      "execution_count": 2,
      "outputs": [
        {
          "output_type": "stream",
          "name": "stdout",
          "text": [
            "27\n"
          ]
        }
      ]
    },
    {
      "cell_type": "code",
      "source": [
        "print(name, 'is', age, 'years old', \".\")"
      ],
      "metadata": {
        "id": "rH0RXo6F50Oj",
        "outputId": "d328d4ee-fc2f-47de-ed1b-fe5afc7894a5",
        "colab": {
          "base_uri": "https://localhost:8080/"
        }
      },
      "execution_count": 5,
      "outputs": [
        {
          "output_type": "stream",
          "name": "stdout",
          "text": [
            "Sarah is 27 years old .\n"
          ]
        }
      ]
    },
    {
      "cell_type": "code",
      "source": [
        "last_name = 'Stueve'\n",
        "print(last_name)"
      ],
      "metadata": {
        "id": "WDvNxde-6Hwv",
        "outputId": "dc7c26f9-1538-4f66-bd45-60732a6123b2",
        "colab": {
          "base_uri": "https://localhost:8080/"
        }
      },
      "execution_count": 6,
      "outputs": [
        {
          "output_type": "stream",
          "name": "stdout",
          "text": [
            "Stueve\n"
          ]
        }
      ]
    },
    {
      "cell_type": "code",
      "source": [
        "print(name, \"will be\", age + 10, \"in ten years.\")"
      ],
      "metadata": {
        "id": "HbjyWsEt7aEd",
        "outputId": "41571e00-d899-481b-f5b2-7796509eae66",
        "colab": {
          "base_uri": "https://localhost:8080/"
        }
      },
      "execution_count": 7,
      "outputs": [
        {
          "output_type": "stream",
          "name": "stdout",
          "text": [
            "Sarah will be 37 in ten years.\n"
          ]
        }
      ]
    },
    {
      "cell_type": "code",
      "source": [
        "print(name[2])"
      ],
      "metadata": {
        "id": "fIQHPCcF8GZW",
        "outputId": "3c8fe718-cc50-4b41-e39d-aea8e7e178c2",
        "colab": {
          "base_uri": "https://localhost:8080/"
        }
      },
      "execution_count": 8,
      "outputs": [
        {
          "output_type": "stream",
          "name": "stdout",
          "text": [
            "r\n"
          ]
        }
      ]
    },
    {
      "cell_type": "code",
      "source": [
        "print(name[0])"
      ],
      "metadata": {
        "id": "tWyzhOOD8VC2",
        "outputId": "eeb81864-c5d7-4253-943a-57f19bc7b5bf",
        "colab": {
          "base_uri": "https://localhost:8080/"
        }
      },
      "execution_count": 9,
      "outputs": [
        {
          "output_type": "stream",
          "name": "stdout",
          "text": [
            "S\n"
          ]
        }
      ]
    },
    {
      "cell_type": "code",
      "source": [
        "name_substring = name[:3]\n",
        "name_substring"
      ],
      "metadata": {
        "id": "NTdQelRB8m2p",
        "outputId": "e9d24cfc-f631-4a34-c56b-81d5b6f31478",
        "colab": {
          "base_uri": "https://localhost:8080/",
          "height": 35
        }
      },
      "execution_count": 11,
      "outputs": [
        {
          "output_type": "execute_result",
          "data": {
            "text/plain": [
              "'Sar'"
            ],
            "application/vnd.google.colaboratory.intrinsic+json": {
              "type": "string"
            }
          },
          "metadata": {},
          "execution_count": 11
        }
      ]
    },
    {
      "cell_type": "code",
      "source": [
        "len(name_substring)"
      ],
      "metadata": {
        "id": "91BT_PCJ9FH6",
        "outputId": "b3265dff-ada7-4146-acba-21068d3771c9",
        "colab": {
          "base_uri": "https://localhost:8080/"
        }
      },
      "execution_count": 12,
      "outputs": [
        {
          "output_type": "execute_result",
          "data": {
            "text/plain": [
              "3"
            ]
          },
          "metadata": {},
          "execution_count": 12
        }
      ]
    },
    {
      "cell_type": "code",
      "source": [
        "# This sentence isn't executed by python\n",
        "length_name = len(name)\n",
        "print(length_name + 4) # This isn't either"
      ],
      "metadata": {
        "id": "i8BA5pZB9zGo",
        "outputId": "f451409f-d2c1-49fc-ef0f-5c1ba2090653",
        "colab": {
          "base_uri": "https://localhost:8080/"
        }
      },
      "execution_count": 13,
      "outputs": [
        {
          "output_type": "stream",
          "name": "stdout",
          "text": [
            "9\n"
          ]
        }
      ]
    },
    {
      "cell_type": "code",
      "source": [],
      "metadata": {
        "id": "tcClPwVY-IgE"
      },
      "execution_count": null,
      "outputs": []
    }
  ],
  "metadata": {
    "colab": {
      "provenance": [],
      "include_colab_link": true
    },
    "language_info": {
      "name": "python"
    },
    "kernelspec": {
      "name": "python3",
      "display_name": "Python 3"
    }
  },
  "nbformat": 4,
  "nbformat_minor": 0
}